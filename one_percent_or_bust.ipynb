{
 "cells": [
  {
   "cell_type": "code",
   "execution_count": 1,
   "id": "44ecee29-0b06-4dd5-b0be-999a34d6d901",
   "metadata": {},
   "outputs": [],
   "source": [
    "import gerrychain\n",
    "from gerrychain import (\n",
    "    MarkovChain,\n",
    "    constraints,\n",
    "    accept\n",
    ")\n",
    "from gerrychain.proposals import recom\n",
    "from gerrychain.tree import recursive_seed_part, bipartition_tree\n",
    "from functools import partial\n",
    "from tqdm import tqdm\n",
    "import pandas as pd\n",
    "import os\n",
    "import click\n",
    "import random\n",
    "from division_aware import *\n",
    "import matplotlib.pyplot as plt\n",
    "from utilities import *"
   ]
  },
  {
   "cell_type": "code",
   "execution_count": 2,
   "id": "777a7dc4-9c48-4800-9bad-72594b5c2c37",
   "metadata": {},
   "outputs": [],
   "source": [
    "%load_ext autoreload\n",
    "%autoreload 2"
   ]
  },
  {
   "cell_type": "code",
   "execution_count": 3,
   "id": "32fe45a3-a6cd-4365-a596-14fb3a529261",
   "metadata": {},
   "outputs": [],
   "source": [
    "graph = Graph.from_json(\"shapes/wisconsin2020_graph_cousub.json\")\n",
    "munis, nodes_by_muni = get_divisions(graph, \"COUSUB\")\n",
    "counties, nodes_by_county = get_divisions(graph, \"COUNTYFP\")"
   ]
  },
  {
   "cell_type": "code",
   "execution_count": 11,
   "id": "e7f261c2-59a8-4521-9954-a97201c20366",
   "metadata": {},
   "outputs": [],
   "source": [
    "def get_max_deviation(partition, ideal_pop):\n",
    "    max_dev = max({d:abs(partition.population[d] - ideal_pop) / ideal_pop for d in partition.population.keys()}.values())\n",
    "    return max_dev"
   ]
  },
  {
   "cell_type": "code",
   "execution_count": 41,
   "id": "8204cf06-7b64-49f3-ba72-1b4849c500f6",
   "metadata": {},
   "outputs": [],
   "source": [
    "POP_COL = \"TOTPOP19\"\n",
    "epsilon = 0.02\n",
    "steps = 500\n",
    "\n",
    "def guided_acceptance_factory(ideal_pop):\n",
    "    def accept_lower_deviation(partition):\n",
    "        parent = partition.parent\n",
    "        child_dev = get_max_deviation(partition, ideal_pop)\n",
    "        parent_dev = get_max_deviation(parent, ideal_pop)\n",
    "        probability = min([1*math.exp(100000*(parent_dev - child_dev)), 1])\n",
    "        if random.random() < probability:\n",
    "            return True\n",
    "        else:\n",
    "            return False\n",
    "    return accept_lower_deviation\n",
    "\n",
    "initial_partition = make_partition_from_districtr_csv(\"WI\", graph, \"WI1\")\n",
    "ideal_population = sum(initial_partition.population.values()) / len(initial_partition)\n",
    "\n",
    "proposal = partial(recom,\n",
    "                   pop_col=POP_COL,\n",
    "                   pop_target=ideal_population,\n",
    "                   epsilon=epsilon,\n",
    "                   node_repeats=2)\n",
    "\n",
    "elections = states[\"WI\"][\"elections\"].keys()\n",
    "acceptance = guided_acceptance_factory(ideal_population)\n",
    "\n",
    "chain = MarkovChain(\n",
    "                    proposal = proposal,\n",
    "                    constraints = [constraints.within_percent_of_ideal_population(initial_partition, epsilon)],\n",
    "                    accept = acceptance,\n",
    "                    initial_state = lowest_dev_plan,\n",
    "                    total_steps = steps)"
   ]
  },
  {
   "cell_type": "code",
   "execution_count": 42,
   "id": "64189c11-6964-40f2-a0d4-1f58371b465e",
   "metadata": {},
   "outputs": [
    {
     "data": {
      "application/vnd.jupyter.widget-view+json": {
       "model_id": "99b7a2bdb9c24b7083b74693d9e4aef2",
       "version_major": 2,
       "version_minor": 0
      },
      "text/plain": [
       "  0%|          | 0/500 [00:00<?, ?it/s]"
      ]
     },
     "metadata": {},
     "output_type": "display_data"
    }
   ],
   "source": [
    "max_devs = []\n",
    "lowest_dev = None\n",
    "lowest_dev_plan = None\n",
    "for i, part in enumerate(chain.with_progress_bar()):\n",
    "    max_dev = get_max_deviation(part, ideal_population)\n",
    "    max_devs.append(max_dev)\n",
    "    if lowest_dev is None or max_dev <= lowest_dev:\n",
    "        lowest_dev_plan = part\n",
    "        lowest_dev = max_dev"
   ]
  },
  {
   "cell_type": "code",
   "execution_count": 43,
   "id": "34aab61a-f1d6-470f-b13a-cf58a5c63613",
   "metadata": {},
   "outputs": [
    {
     "data": {
      "text/plain": [
       "Text(0.5, 1.0, 'Maximum Population Deviation')"
      ]
     },
     "execution_count": 43,
     "metadata": {},
     "output_type": "execute_result"
    },
    {
     "data": {
      "image/png": "[encoded data removed]",
      "text/plain": [
       "<Figure size 1008x504 with 1 Axes>"
      ]
     },
     "metadata": {
      "needs_background": "light"
     },
     "output_type": "display_data"
    }
   ],
   "source": [
    "fig, ax = plt.subplots(1,1,figsize=(14,7))\n",
    "plt.subplots_adjust(hspace=0.5)\n",
    "ax.plot(max_devs)\n",
    "ax.set_title(\"Maximum Population Deviation\")"
   ]
  },
  {
   "cell_type": "code",
   "execution_count": 44,
   "id": "0ccd29e3-b7f4-436e-b66a-6dcf26b5f64b",
   "metadata": {},
   "outputs": [],
   "source": [
    "save_partition_as_districtr_csv(graph, lowest_dev_plan, 'Code-2', \"WI_seed_1pct_plan\")"
   ]
  },
  {
   "cell_type": "code",
   "execution_count": 45,
   "id": "07f4e496-d72a-4f6c-a529-93d8ace87118",
   "metadata": {},
   "outputs": [
    {
     "data": {
      "text/plain": [
       "0.009927215524252296"
      ]
     },
     "execution_count": 45,
     "metadata": {},
     "output_type": "execute_result"
    }
   ],
   "source": [
    "lowest_dev"
   ]
  }
 ],
 "metadata": {
  "kernelspec": {
   "display_name": "Python 3 (ipykernel)",
   "language": "python",
   "name": "python3"
  },
  "language_info": {
   "codemirror_mode": {
    "name": "ipython",
    "version": 3
   },
   "file_extension": ".py",
   "mimetype": "text/x-python",
   "name": "python",
   "nbconvert_exporter": "python",
   "pygments_lexer": "ipython3",
   "version": "3.8.10"
  }
 },
 "nbformat": 4,
 "nbformat_minor": 5
}

{
 "cells": [
  {
   "cell_type": "code",
   "execution_count": 21,
   "id": "64fc877b-050b-4015-935c-eba94f8ee749",
   "metadata": {},
   "outputs": [],
   "source": [
    "import gerrychain\n",
    "from gerrychain import (\n",
    "    MarkovChain,\n",
    "    constraints,\n",
    "    accept\n",
    ")\n",
    "from gerrychain.proposals import recom\n",
    "from gerrychain.tree import recursive_seed_part, bipartition_tree\n",
    "from functools import partial\n",
    "from tqdm import tqdm\n",
    "#import pandas as pd\n",
    "import os\n",
    "import click\n",
    "import random\n",
    "from division_aware import *\n",
    "import matplotlib.pyplot as plt"
   ]
  },
  {
   "cell_type": "code",
   "execution_count": 2,
   "id": "c521d27f-fd53-4044-a3bc-1aa98df19af2",
   "metadata": {},
   "outputs": [
    {
     "name": "stderr",
     "output_type": "stream",
     "text": [
      "/root/anaconda3/envs/gerrychain/lib/python3.8/site-packages/gerrychain/graph/graph.py:238: UserWarning: Found islands (degree-0 nodes). Indices of islands: {1520, 63}\n",
      "  warnings.warn(\n"
     ]
    }
   ],
   "source": [
    "graph = Graph.from_json(\"shapes/WI_with_cousub.json\")\n",
    "munis, nodes_by_muni = get_divisions(graph, \"COUSUB_ID\")\n",
    "counties, nodes_by_county = get_divisions(graph, \"COUNTYFP\")"
   ]
  },
  {
   "cell_type": "code",
   "execution_count": 12,
   "id": "044b7041-0222-4fd0-852d-ac4925c32582",
   "metadata": {},
   "outputs": [],
   "source": [
    "epsilon = 0.02\n",
    "steps = 30000\n",
    "first_check_division = True\n",
    "division_aware = True\n",
    "tuple_type = \"COUNTY_PREF\"\n",
    "POP_COL = \"TOTPOP19\"\n",
    "if tuple_type == \"COUNTYFP\" or tuple_type == \"COUSUB_ID\":\n",
    "    division_tuples = [(tuple_type, 1)]\n",
    "elif tuple_type == \"BOTH_EQUAL\":\n",
    "    division_tuples = [(\"COUNTYFP\", 1), (\"COUSUB_ID\", 1)]\n",
    "elif tuple_type == \"COUNTY_PREF\":\n",
    "    division_tuples = [(\"COUNTYFP\", 2), (\"COUSUB_ID\", 1)]\n",
    "elif tuple_type == \"MUNI_PREF\":\n",
    "    division_tuples = [(\"COUNTYFP\", 1), (\"COUSUB_ID\", 2)]\n",
    "else:\n",
    "    raise ValueError(\"ERROR: `tuple_type` needs to be one of 'COUNTYFP', COUSUB_ID', 'BOTH_EQUAL', 'COUNTY_PREF', or 'MUNI_PREF'.\")\n",
    "\n",
    "    initial_partition = make_partition_from_districtr_csv(\"WI\", graph, \"WI1\")\n",
    "ideal_population = sum(initial_partition.population.values()) / len(initial_partition)\n",
    "if division_aware:\n",
    "    proposal = partial(recom,\n",
    "                       pop_col = POP_COL,\n",
    "                       pop_target = ideal_population,\n",
    "                       epsilon = epsilon,\n",
    "                       method = partial(division_bipartition_tree,\n",
    "                                       division_tuples=division_tuples,\n",
    "                                       first_check_division = first_check_division),\n",
    "                       node_repeats = 2)\n",
    "else:\n",
    "    proposal = partial(recom,\n",
    "                       pop_col=POP_COL,\n",
    "                       pop_target=ideal_population,\n",
    "                       epsilon=epsilon,\n",
    "                       node_repeats=2)\n",
    "\n",
    "chain = MarkovChain(\n",
    "                    proposal = proposal,\n",
    "                    constraints = [constraints.within_percent_of_ideal_population(initial_partition, epsilon)],\n",
    "                    accept = accept.always_accept,\n",
    "                    initial_state = initial_partition,\n",
    "                    total_steps = steps)\n"
   ]
  },
  {
   "cell_type": "code",
   "execution_count": 15,
   "id": "0adbfb31-bac6-45d7-9b8f-aa91aba6c2ff",
   "metadata": {},
   "outputs": [
    {
     "name": "stderr",
     "output_type": "stream",
     "text": [
      "100%|████████████████████████████████████████████████████████████████████████████████████████████████████████████████████████████████████████████████████████████████████████| 30000/30000 [52:51<00:00,  9.46it/s]\n"
     ]
    }
   ],
   "source": [
    "split_counties = []\n",
    "split_munis = []\n",
    "lowest_split_counties = None\n",
    "lowest_split_munis = None\n",
    "lowest_split_sum = None\n",
    "best_plan_counties = None\n",
    "best_plan_munis = None\n",
    "best_plan_sum = None\n",
    "for i, part in enumerate(tqdm(chain)):\n",
    "    num_split_counties = num_division_splits(graph, part, counties, nodes_by_county, division_col=\"COUNTYFP\")\n",
    "    num_split_munis = num_division_splits(graph, part, munis, nodes_by_muni, division_col=\"COUSUB_ID\")\n",
    "    split_counties.append(num_split_counties)\n",
    "    split_munis.append(num_split_munis)\n",
    "    if lowest_split_counties is None or num_split_counties <= lowest_split_counties:\n",
    "        lowest_split_counties = num_split_counties\n",
    "        best_plan_counties = part\n",
    "    if lowest_split_munis is None or num_split_munis <= lowest_split_munis:\n",
    "        lowest_split_munis = num_split_munis\n",
    "        best_plan_munis = part\n",
    "    if lowest_split_sum is None or num_split_counties + num_split_munis <= lowest_split_sum:\n",
    "        lowest_split_sum = num_split_counties + num_split_munis\n",
    "        best_plan_sum = part"
   ]
  },
  {
   "cell_type": "code",
   "execution_count": 16,
   "id": "21f1b867-8d8e-4662-b9c0-a17dc1a47d37",
   "metadata": {},
   "outputs": [],
   "source": [
    "save_partition_as_districtr_csv(graph, best_plan_sum, \"Code-2\", \"best_plan_sum_test\")\n",
    "save_partition_as_districtr_csv(graph, best_plan_counties, \"Code-2\", \"best_plan_counties_test\")\n",
    "save_partition_as_districtr_csv(graph, best_plan_munis, \"Code-2\", \"best_plan_munis_test\")"
   ]
  },
  {
   "cell_type": "code",
   "execution_count": 17,
   "id": "0af29f21-2fbb-4d39-8c36-b1034cc9dc61",
   "metadata": {},
   "outputs": [
    {
     "data": {
      "text/plain": [
       "38"
      ]
     },
     "execution_count": 17,
     "metadata": {},
     "output_type": "execute_result"
    }
   ],
   "source": [
    "num_division_splits(graph, best_plan_counties, counties, nodes_by_county, division_col=\"COUNTYFP\")"
   ]
  },
  {
   "cell_type": "code",
   "execution_count": 18,
   "id": "f9ad8756-49b2-4df0-a83f-fca466387e42",
   "metadata": {},
   "outputs": [
    {
     "data": {
      "text/plain": [
       "59"
      ]
     },
     "execution_count": 18,
     "metadata": {},
     "output_type": "execute_result"
    }
   ],
   "source": [
    "num_division_splits(graph, best_plan_munis, munis, nodes_by_muni, division_col=\"COUSUB_ID\")"
   ]
  },
  {
   "cell_type": "code",
   "execution_count": 19,
   "id": "49a6d808-cc42-4610-b77e-161b35594fd3",
   "metadata": {},
   "outputs": [
    {
     "name": "stdout",
     "output_type": "stream",
     "text": [
      "38\n",
      "60\n"
     ]
    }
   ],
   "source": [
    "print(num_division_splits(graph, best_plan_sum, counties, nodes_by_county, division_col=\"COUNTYFP\"))\n",
    "print(num_division_splits(graph, best_plan_sum, munis, nodes_by_muni, division_col=\"COUSUB_ID\"))"
   ]
  },
  {
   "cell_type": "code",
   "execution_count": 22,
   "id": "d09d3945-9790-437a-baca-3d2f6013c0ad",
   "metadata": {},
   "outputs": [
    {
     "data": {
      "text/plain": [
       "[<matplotlib.lines.Line2D at 0x7f4b0d3f5370>]"
      ]
     },
     "execution_count": 22,
     "metadata": {},
     "output_type": "execute_result"
    },
    {
     "data": {
      "image/png": "[encoded data removed]",
      "text/plain": [
       "<Figure size 432x288 with 1 Axes>"
      ]
     },
     "metadata": {
      "needs_background": "light"
     },
     "output_type": "display_data"
    }
   ],
   "source": [
    "plt.plot(split_counties)"
   ]
  },
  {
   "cell_type": "code",
   "execution_count": 23,
   "id": "7c681242-c243-4fd4-854a-46b547b4ebc3",
   "metadata": {},
   "outputs": [
    {
     "data": {
      "text/plain": [
       "[<matplotlib.lines.Line2D at 0x7f4b0d32b5b0>]"
      ]
     },
     "execution_count": 23,
     "metadata": {},
     "output_type": "execute_result"
    },
    {
     "data": {
      "image/png": "[encoded data removed]",
      "text/plain": [
       "<Figure size 432x288 with 1 Axes>"
      ]
     },
     "metadata": {
      "needs_background": "light"
     },
     "output_type": "display_data"
    }
   ],
   "source": [
    "plt.plot(split_munis)"
   ]
  }
 ],
 "metadata": {
  "kernelspec": {
   "display_name": "Python 3 (ipykernel)",
   "language": "python",
   "name": "python3"
  },
  "language_info": {
   "codemirror_mode": {
    "name": "ipython",
    "version": 3
   },
   "file_extension": ".py",
   "mimetype": "text/x-python",
   "name": "python",
   "nbconvert_exporter": "python",
   "pygments_lexer": "ipython3",
   "version": "3.8.10"
  }
 },
 "nbformat": 4,
 "nbformat_minor": 5
}

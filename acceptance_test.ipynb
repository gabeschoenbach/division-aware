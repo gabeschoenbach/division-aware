{
 "cells": [
  {
   "cell_type": "code",
   "execution_count": 12,
   "id": "96ae04dd-0d45-4921-918c-06f62be66b24",
   "metadata": {},
   "outputs": [],
   "source": [
    "import gerrychain\n",
    "from gerrychain import (\n",
    "    MarkovChain,\n",
    "    constraints,\n",
    "    accept,\n",
    "    GeographicPartition,\n",
    "    updaters\n",
    ")\n",
    "from gerrychain.proposals import recom\n",
    "from gerrychain.tree import recursive_seed_part, bipartition_tree, recursive_tree_part\n",
    "from functools import partial\n",
    "from tqdm import tqdm\n",
    "import pandas as pd\n",
    "import os\n",
    "import click\n",
    "import random\n",
    "from division_aware import *\n",
    "import matplotlib.pyplot as plt\n",
    "from utilities import *\n",
    "import numpy as np"
   ]
  },
  {
   "cell_type": "code",
   "execution_count": 2,
   "id": "e8ea900d-c6a8-45dc-8838-2dd9102ca4f4",
   "metadata": {},
   "outputs": [],
   "source": [
    "%load_ext autoreload\n",
    "%autoreload 2"
   ]
  },
  {
   "cell_type": "code",
   "execution_count": 4,
   "id": "a765ee80-e509-4a3e-9ce0-2ccd79cf2abe",
   "metadata": {},
   "outputs": [],
   "source": [
    "graph = Graph.from_json(\"shapes/wisconsin2020_graph_cousub.json\")\n",
    "munis, nodes_by_muni = get_divisions(graph, \"COUSUB\")\n",
    "counties, nodes_by_county = get_divisions(graph, \"COUNTYFP\")"
   ]
  },
  {
   "cell_type": "code",
   "execution_count": 7,
   "id": "a9b11175-8ee6-43c6-9bf5-5b48eb0d8804",
   "metadata": {},
   "outputs": [],
   "source": [
    "epsilon = 0.02\n",
    "steps = 500\n",
    "first_check_division = True\n",
    "division_aware = True\n",
    "POP_COL = \"TOTPOP19\"\n",
    "division_tuples = [(\"COUNTYFP\", 1), (\"COUSUB\", 1)]"
   ]
  },
  {
   "cell_type": "code",
   "execution_count": 15,
   "id": "a34a16a3-3e71-4cb0-a4fb-a5dcb6f5a16e",
   "metadata": {},
   "outputs": [],
   "source": [
    "my_updaters = {\"population\": updaters.Tally(POP_COL, alias=\"population\")}"
   ]
  },
  {
   "cell_type": "code",
   "execution_count": 63,
   "id": "5e916fb2-e448-499d-b982-bdf096e157c4",
   "metadata": {},
   "outputs": [],
   "source": [
    "def L1(vec):\n",
    "    return sum(abs(v) for v in vec)\n",
    "\n",
    "def P1(partition, elections):\n",
    "    num_dists = len(partition)\n",
    "    num_R_seats = 0\n",
    "    for election in elections:\n",
    "        num_R_seats += partition[election].wins('Rep')\n",
    "    average_R_vote_share = np.mean([partition[election].percent('Rep') for election in elections])\n",
    "    average_R_seat_share = num_R_seats / (num_dists * len(elections))\n",
    "    return abs(average_R_seat_share - average_R_vote_share)\n",
    "\n",
    "def P2(partition, elections):\n",
    "    num_dists = len(partition)\n",
    "    proportionality_vector = []\n",
    "    for election in elections:\n",
    "        vote_share = partition[election].percent(\"Rep\")\n",
    "        seat_share = partition[election].wins(\"Rep\") / num_dists\n",
    "        proportionality_vector.append(seat_share - vote_share)\n",
    "    return L1(proportionality_vector)\n",
    "\n",
    "def D(partition, elections):\n",
    "    num_dists = len(partition)\n",
    "    num_R_seats = 0\n",
    "    for election in elections:\n",
    "        num_R_seats += partition[election].wins('Rep')\n",
    "    seat_share = num_R_seats / (num_dists * len(elections))\n",
    "    return seat_share"
   ]
  },
  {
   "cell_type": "code",
   "execution_count": 64,
   "id": "3bf4b986-565d-48cb-ae73-2e1e80a23a29",
   "metadata": {},
   "outputs": [],
   "source": [
    "def guided_acceptance_factory(elections, acceptance='D'):\n",
    "    \n",
    "    def accept_more_P1(partition):\n",
    "        parent = partition.parent\n",
    "        child_P1 = P1(partition, elections)\n",
    "        parent_P1 = P1(parent, elections)\n",
    "        probability = min([math.exp(1800*(parent_P1 - child_P1)), 1])\n",
    "        if random.random() < probability:\n",
    "            return True\n",
    "        else:\n",
    "            return False\n",
    "\n",
    "    def accept_more_P2(partition):\n",
    "        parent = partition.parent\n",
    "        child_P2 = P2(partition, elections)\n",
    "        parent_P2 = P2(parent, elections)\n",
    "        probability = min([math.exp(180*(parent_P2 - child_P2)), 1])\n",
    "        if random.random() < probability:\n",
    "            return True\n",
    "        else:\n",
    "            return False\n",
    "        \n",
    "    def accept_more_D(partition):\n",
    "        parent = partition.parent\n",
    "        child_D = D(partition, elections)\n",
    "        parent_D = D(parent, elections)\n",
    "        probability = min([math.exp(1800*(parent_D - child_D)), 1])\n",
    "        if random.random() < probability:\n",
    "            return True\n",
    "        else:\n",
    "            return False\n",
    "        \n",
    "    if acceptance == 'P1':\n",
    "        return accept_more_P1\n",
    "    elif acceptance == 'P2':\n",
    "        return accept_more_P2\n",
    "    elif acceptance == 'D':\n",
    "        return accept_more_D"
   ]
  },
  {
   "cell_type": "code",
   "execution_count": 66,
   "id": "8f469bbb-7152-4f09-8eb5-00ab7bad836b",
   "metadata": {},
   "outputs": [],
   "source": [
    "initial_partition = make_partition_from_districtr_csv(\"WI\", graph, \"WI1\")\n",
    "ideal_population = sum(initial_partition.population.values()) / len(initial_partition)\n",
    "if division_aware:\n",
    "    proposal = partial(recom,\n",
    "                       pop_col = POP_COL,\n",
    "                       pop_target = ideal_population,\n",
    "                       epsilon = epsilon,\n",
    "                       method = partial(division_bipartition_tree,\n",
    "                                       division_tuples=division_tuples,\n",
    "                                       first_check_division = first_check_division),\n",
    "                       node_repeats = 2)\n",
    "else:\n",
    "    proposal = partial(recom,\n",
    "                       pop_col=POP_COL,\n",
    "                       pop_target=ideal_population,\n",
    "                       epsilon=epsilon,\n",
    "                       node_repeats=2)\n",
    "\n",
    "elections = states[\"WI\"][\"elections\"].keys()\n",
    "acceptance = guided_acceptance_factory(elections, acceptance='D')\n",
    "\n",
    "chain = MarkovChain(\n",
    "                    proposal = proposal,\n",
    "                    constraints = [constraints.within_percent_of_ideal_population(initial_partition, epsilon)],\n",
    "                    accept = acceptance,\n",
    "                    initial_state = initial_partition,\n",
    "                    total_steps = steps)"
   ]
  },
  {
   "cell_type": "code",
   "execution_count": 67,
   "id": "fd7cd836-8b93-4523-9497-a5704c108353",
   "metadata": {},
   "outputs": [
    {
     "data": {
      "application/vnd.jupyter.widget-view+json": {
       "model_id": "3b352c35853d40c9bf87c179e67b561e",
       "version_major": 2,
       "version_minor": 0
      },
      "text/plain": [
       "  0%|          | 0/500 [00:00<?, ?it/s]"
      ]
     },
     "metadata": {},
     "output_type": "display_data"
    }
   ],
   "source": [
    "P1s = []\n",
    "P2s = []\n",
    "Ds  = []\n",
    "for i, part in enumerate(chain.with_progress_bar()):\n",
    "    P1s.append(P1(part, elections))\n",
    "    P2s.append(P2(part, elections))\n",
    "    Ds.append(D(part, elections))"
   ]
  },
  {
   "cell_type": "code",
   "execution_count": 68,
   "id": "584820e0-562f-41c3-ba0f-56147dbaf6e7",
   "metadata": {},
   "outputs": [
    {
     "data": {
      "text/plain": [
       "Text(0.5, 1.0, 'D')"
      ]
     },
     "execution_count": 68,
     "metadata": {},
     "output_type": "execute_result"
    },
    {
     "data": {
      "image/png": "[encoded data removed]",
      "text/plain": [
       "<Figure size 720x720 with 3 Axes>"
      ]
     },
     "metadata": {
      "needs_background": "light"
     },
     "output_type": "display_data"
    }
   ],
   "source": [
    "fig, ax = plt.subplots(3,1,figsize=(10,10))\n",
    "plt.subplots_adjust(hspace=0.5)\n",
    "ax[0].plot(P1s)\n",
    "ax[0].set_title(\"P1\")\n",
    "ax[1].plot(P2s)\n",
    "ax[1].set_title(\"P2\")\n",
    "ax[2].plot(Ds)\n",
    "ax[2].set_title(\"D\")"
   ]
  }
 ],
 "metadata": {
  "kernelspec": {
   "display_name": "Python 3 (ipykernel)",
   "language": "python",
   "name": "python3"
  },
  "language_info": {
   "codemirror_mode": {
    "name": "ipython",
    "version": 3
   },
   "file_extension": ".py",
   "mimetype": "text/x-python",
   "name": "python",
   "nbconvert_exporter": "python",
   "pygments_lexer": "ipython3",
   "version": "3.8.10"
  }
 },
 "nbformat": 4,
 "nbformat_minor": 5
}
